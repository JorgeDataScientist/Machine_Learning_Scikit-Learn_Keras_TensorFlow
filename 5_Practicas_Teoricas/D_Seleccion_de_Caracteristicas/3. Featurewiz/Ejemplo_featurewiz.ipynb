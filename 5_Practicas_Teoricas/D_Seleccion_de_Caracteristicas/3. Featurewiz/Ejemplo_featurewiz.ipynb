{
  "cells": [
    {
      "cell_type": "code",
      "execution_count": 1,
      "metadata": {},
      "outputs": [],
      "source": [
        "# !pip install featurewiz"
      ]
    },
    {
      "cell_type": "code",
      "execution_count": 2,
      "metadata": {
        "id": "mC5NDKZ57bG7"
      },
      "outputs": [
        {
          "ename": "ModuleNotFoundError",
          "evalue": "No module named 'featurewiz'",
          "output_type": "error",
          "traceback": [
            "\u001b[1;31m---------------------------------------------------------------------------\u001b[0m",
            "\u001b[1;31mModuleNotFoundError\u001b[0m                       Traceback (most recent call last)",
            "Cell \u001b[1;32mIn[2], line 9\u001b[0m\n\u001b[0;32m      7\u001b[0m \u001b[38;5;28;01mfrom\u001b[39;00m \u001b[38;5;21;01msklearn\u001b[39;00m\u001b[38;5;21;01m.\u001b[39;00m\u001b[38;5;21;01mensemble\u001b[39;00m \u001b[38;5;28;01mimport\u001b[39;00m RandomForestClassifier\n\u001b[0;32m      8\u001b[0m \u001b[38;5;28;01mfrom\u001b[39;00m \u001b[38;5;21;01msklearn\u001b[39;00m\u001b[38;5;21;01m.\u001b[39;00m\u001b[38;5;21;01mmetrics\u001b[39;00m \u001b[38;5;28;01mimport\u001b[39;00m accuracy_score\n\u001b[1;32m----> 9\u001b[0m \u001b[38;5;28;01mfrom\u001b[39;00m \u001b[38;5;21;01mfeaturewiz\u001b[39;00m \u001b[38;5;28;01mimport\u001b[39;00m featurewiz \u001b[38;5;66;03m# pip install featurewiz\u001b[39;00m\n\u001b[0;32m     10\u001b[0m np\u001b[38;5;241m.\u001b[39mrandom\u001b[38;5;241m.\u001b[39mseed(\u001b[38;5;241m1234\u001b[39m)\n",
            "\u001b[1;31mModuleNotFoundError\u001b[0m: No module named 'featurewiz'"
          ]
        }
      ],
      "source": [
        "# import packages\n",
        "import pandas as pd\n",
        "import numpy as np\n",
        "import seaborn as sns\n",
        "from sklearn.model_selection import train_test_split\n",
        "from sklearn.preprocessing import StandardScaler\n",
        "from sklearn.ensemble import RandomForestClassifier\n",
        "from sklearn.metrics import accuracy_score\n",
        "from featurewiz import featurewiz # pip install featurewiz\n",
        "np.random.seed(1234)"
      ]
    },
    {
      "cell_type": "markdown",
      "metadata": {
        "id": "zqxhjDuj8A2P"
      },
      "source": [
        "Seguiremos trabajando con los datos de Mobile Price, solo que unicamente utilizaremos la parte de train."
      ]
    },
    {
      "cell_type": "code",
      "execution_count": null,
      "metadata": {
        "colab": {
          "base_uri": "https://localhost:8080/"
        },
        "id": "GJeva7n57vSs",
        "outputId": "7a1fbc42-79a8-4a9b-8ed2-7f0395422117"
      },
      "outputs": [],
      "source": [
        "data = pd.read_csv( '/content/train.csv' )\n",
        "data.shape"
      ]
    },
    {
      "cell_type": "markdown",
      "metadata": {
        "id": "eyFaf_Jh8HZc"
      },
      "source": [
        "El conjunto de datos contiene 21 columnas (20 características y 1 objetivo)"
      ]
    },
    {
      "cell_type": "code",
      "execution_count": 43,
      "metadata": {
        "id": "TSLADXE38MZV"
      },
      "outputs": [],
      "source": [
        "#Dividimos y escalamos los datos\n",
        "X = data.drop([ 'price_range' ],axis= 1 )\n",
        "y = data.price_range.values"
      ]
    },
    {
      "cell_type": "code",
      "execution_count": 44,
      "metadata": {
        "id": "adyQfbGr8bXE"
      },
      "outputs": [],
      "source": [
        "#Estandarizacion de los features\n",
        "X_scaled = StandardScaler().fit_transform(X)"
      ]
    },
    {
      "cell_type": "code",
      "execution_count": 45,
      "metadata": {
        "id": "YSx2F8-I8kaI"
      },
      "outputs": [],
      "source": [
        "#Division en train y test\n",
        "X_train, X_valid, y_train, y_valid = train_test_split(X_scaled,y,test_size = 0.2 ,stratify=y, random_state= 1 )"
      ]
    },
    {
      "cell_type": "code",
      "execution_count": null,
      "metadata": {
        "colab": {
          "base_uri": "https://localhost:8080/",
          "height": 74
        },
        "id": "8o2H7lBl8n7Q",
        "outputId": "b79f44db-401d-4e6c-b0e8-8288b2f1e8c1"
      },
      "outputs": [],
      "source": [
        "#RF y Train\n",
        "classifier = RandomForestClassifier()\n",
        "classifier.fit(X_train,y_train)"
      ]
    },
    {
      "cell_type": "code",
      "execution_count": 47,
      "metadata": {
        "id": "zI0zIoJg8saK"
      },
      "outputs": [],
      "source": [
        "#Prediccion\n",
        "preds = classifier.predict(X_valid)"
      ]
    },
    {
      "cell_type": "code",
      "execution_count": null,
      "metadata": {
        "colab": {
          "base_uri": "https://localhost:8080/"
        },
        "id": "cx54tPUa8zVG",
        "outputId": "e3a77a18-bea8-4305-db99-396482c8e1a9"
      },
      "outputs": [],
      "source": [
        "#Accuracy\n",
        "accuracy_score(preds,y_valid)"
      ]
    },
    {
      "cell_type": "markdown",
      "metadata": {
        "id": "v73dDh3C85U8"
      },
      "source": [
        "La precisión del modelo es del 88 % cuando usamos las 20 features disponibles en el conjunto de datos."
      ]
    },
    {
      "cell_type": "markdown",
      "metadata": {
        "id": "q2GCILFG89Z0"
      },
      "source": [
        "Ahora usaremos Featurewiz para seleccionar automáticamente el mejor conjunto de características que le brindarán el mejor rendimiento del modelo."
      ]
    },
    {
      "cell_type": "code",
      "execution_count": null,
      "metadata": {
        "colab": {
          "base_uri": "https://localhost:8080/",
          "height": 1000
        },
        "id": "kEqOiI079AwI",
        "outputId": "74c5c7e5-4956-482d-ba05-7d40a81803f9"
      },
      "outputs": [],
      "source": [
        " # automatic feature selection by using featurewiz package\n",
        " target = 'price_range'\n",
        " features, train = featurewiz(data, target, corr_limit= 0.7 , verbose= 2 , sep= \",\" , header= 0 ,test_data= \"\" , feature_engg= \"\" , category_encoders= \"\" )"
      ]
    },
    {
      "cell_type": "markdown",
      "metadata": {
        "id": "no1yEXRN9NfY"
      },
      "source": [
        "En la instancia de Featurewiz, hemos agregado el conjunto de datos y el nombre de la variable de destino."
      ]
    },
    {
      "cell_type": "code",
      "execution_count": null,
      "metadata": {
        "colab": {
          "base_uri": "https://localhost:8080/"
        },
        "id": "wldpX6ap9SQw",
        "outputId": "db55a477-9ff2-40df-e259-fd445ca67da2"
      },
      "outputs": [],
      "source": [
        "#Se seleccionaron 13 features\n",
        "print(features)"
      ]
    },
    {
      "cell_type": "code",
      "execution_count": 51,
      "metadata": {
        "id": "vCElEL76_Feo"
      },
      "outputs": [],
      "source": [
        "# Se repite el proceso pero solo con los nuevos features\n",
        "\n",
        "#Dividimos y escalamos los datos\n",
        "X_new = data[['ram', 'battery_power', 'px_height', 'px_width', 'mobile_wt', 'int_memory', 'pc', 'sc_w', 'talk_time', 'sc_h', 'wifi', 'touch_screen', 'three_g']]\n",
        "y = train.price_range.values"
      ]
    },
    {
      "cell_type": "code",
      "execution_count": 52,
      "metadata": {
        "id": "SU_e22JG_K9B"
      },
      "outputs": [],
      "source": [
        "#Escalado\n",
        "X_scaled = StandardScaler().fit_transform(X_new)"
      ]
    },
    {
      "cell_type": "code",
      "execution_count": 57,
      "metadata": {
        "id": "Yvk09WfI_NI6"
      },
      "outputs": [],
      "source": [
        " #split data into train and validate\n",
        " X_train, X_valid, y_train, y_valid = train_test_split(X_scaled,y,test_size = 0.2 ,stratify=y, random_state= 1 )"
      ]
    },
    {
      "cell_type": "code",
      "execution_count": null,
      "metadata": {
        "colab": {
          "base_uri": "https://localhost:8080/",
          "height": 74
        },
        "id": "sPrMEN-K_Q3G",
        "outputId": "246aea12-2500-435c-e2e2-e9b1308b8d1d"
      },
      "outputs": [],
      "source": [
        " # Create and train classifier\n",
        "classifier = RandomForestClassifier()\n",
        "classifier.fit(X_train,y_train)"
      ]
    },
    {
      "cell_type": "code",
      "execution_count": null,
      "metadata": {
        "colab": {
          "base_uri": "https://localhost:8080/"
        },
        "id": "IV1ZuZ1k_VlI",
        "outputId": "13b8159d-b5fc-46a2-fb28-5977e5a889a4"
      },
      "outputs": [],
      "source": [
        "# make prediction\n",
        "preds = classifier.predict(X_valid)\n",
        "\n",
        "# check performance\n",
        "accuracy_score(preds,y_valid)"
      ]
    },
    {
      "cell_type": "markdown",
      "metadata": {
        "id": "QgJkOHaA_ho1"
      },
      "source": [
        "Como podemos identificar, nuestro modelo ha mejorado. Por supuesto, que esto es solo una tecnica, deberemos seguir aplicando diferentes tecnicas para incrementar la performance de nuestro algoritmo"
      ]
    }
  ],
  "metadata": {
    "colab": {
      "provenance": []
    },
    "kernelspec": {
      "display_name": "Python 3",
      "name": "python3"
    },
    "language_info": {
      "codemirror_mode": {
        "name": "ipython",
        "version": 3
      },
      "file_extension": ".py",
      "mimetype": "text/x-python",
      "name": "python",
      "nbconvert_exporter": "python",
      "pygments_lexer": "ipython3",
      "version": "3.12.1"
    }
  },
  "nbformat": 4,
  "nbformat_minor": 0
}
