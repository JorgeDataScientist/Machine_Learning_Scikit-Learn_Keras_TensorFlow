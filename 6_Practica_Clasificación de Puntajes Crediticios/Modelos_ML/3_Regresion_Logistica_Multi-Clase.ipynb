{
 "cells": [
  {
   "cell_type": "code",
   "execution_count": 1,
   "metadata": {},
   "outputs": [],
   "source": [
    "# Importar las librerías necesarias\n",
    "import pandas as pd\n",
    "from sklearn.linear_model import LogisticRegression\n",
    "from sklearn.metrics import classification_report, accuracy_score\n",
    "from sklearn.preprocessing import StandardScaler"
   ]
  },
  {
   "cell_type": "code",
   "execution_count": 2,
   "metadata": {},
   "outputs": [],
   "source": [
    "# Cargar los datos de entrenamiento y prueba\n",
    "X_train = pd.read_csv(\"../data/data_Train_Test/X_train.csv\")\n",
    "X_test = pd.read_csv(\"../data/data_Train_Test/X_test.csv\")\n",
    "y_train = pd.read_csv(\"../data/data_Train_Test/y_train.csv\")['Puntaje_Credito']\n",
    "y_test = pd.read_csv(\"../data/data_Train_Test/y_test.csv\")['Puntaje_Credito']"
   ]
  },
  {
   "cell_type": "code",
   "execution_count": 3,
   "metadata": {},
   "outputs": [],
   "source": [
    "scaler = StandardScaler()\n",
    "X_train = scaler.fit_transform(X_train)\n",
    "X_test = scaler.transform(X_test)"
   ]
  },
  {
   "cell_type": "code",
   "execution_count": 4,
   "metadata": {},
   "outputs": [
    {
     "name": "stderr",
     "output_type": "stream",
     "text": [
      "g:\\Estudios de ProGramacion\\Machine_Learning_Scikit-Learn_Keras_TensorFlow-Libro de Geron\\6_Practica_Clasificación de Puntajes Crediticios\\Lib\\site-packages\\sklearn\\linear_model\\_logistic.py:1247: FutureWarning: 'multi_class' was deprecated in version 1.5 and will be removed in 1.7. From then on, it will always use 'multinomial'. Leave it to its default value to avoid this warning.\n",
      "  warnings.warn(\n"
     ]
    },
    {
     "name": "stdout",
     "output_type": "stream",
     "text": [
      "Accuracy: 0.6661996208687052\n",
      "\n",
      "Classification Report:\n",
      "               precision    recall  f1-score   support\n",
      "\n",
      "        Good       0.56      0.68      0.61      1656\n",
      "        Poor       0.66      0.60      0.63      4140\n",
      "    Standard       0.70      0.71      0.71      6337\n",
      "\n",
      "    accuracy                           0.67     12133\n",
      "   macro avg       0.64      0.66      0.65     12133\n",
      "weighted avg       0.67      0.67      0.67     12133\n",
      "\n"
     ]
    }
   ],
   "source": [
    "# Crear el modelo de Regresión Logística Multiclase\n",
    "model = LogisticRegression(\n",
    "    multi_class='multinomial',  # Para clasificación multiclase\n",
    "    solver='lbfgs',            # Algoritmo de optimización recomendado\n",
    "    max_iter=1000,             # Aumentar iteraciones para asegurar convergencia\n",
    "    C=0.8,\n",
    "    random_state=42\n",
    ")\n",
    "\n",
    "# Entrenar el modelo con los datos de entrenamiento\n",
    "model.fit(X_train, y_train)\n",
    "\n",
    "# Realizar predicciones en el conjunto de prueba\n",
    "y_pred = model.predict(X_test)\n",
    "\n",
    "# Evaluar el rendimiento del modelo\n",
    "print(\"Accuracy:\", accuracy_score(y_test, y_pred))\n",
    "print(\"\\nClassification Report:\\n\", classification_report(y_test, y_pred))"
   ]
  }
 ],
 "metadata": {
  "kernelspec": {
   "display_name": "6_Practica_Clasificación de Puntajes Crediticios",
   "language": "python",
   "name": "python3"
  },
  "language_info": {
   "codemirror_mode": {
    "name": "ipython",
    "version": 3
   },
   "file_extension": ".py",
   "mimetype": "text/x-python",
   "name": "python",
   "nbconvert_exporter": "python",
   "pygments_lexer": "ipython3",
   "version": "3.12.3"
  }
 },
 "nbformat": 4,
 "nbformat_minor": 2
}
