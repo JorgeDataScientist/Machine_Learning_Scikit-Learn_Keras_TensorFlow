{
 "cells": [
  {
   "cell_type": "code",
   "execution_count": 5,
   "metadata": {},
   "outputs": [],
   "source": [
    "# Importar las librerías necesarias\n",
    "import pandas as pd\n",
    "from catboost import CatBoostClassifier\n",
    "from lightgbm import LGBMClassifier\n",
    "from sklearn.metrics import classification_report, accuracy_score"
   ]
  },
  {
   "cell_type": "code",
   "execution_count": 6,
   "metadata": {},
   "outputs": [],
   "source": [
    "# Cargar los datos de entrenamiento y prueba\n",
    "X_train = pd.read_csv(\"../data/data_Train_Test/X_train.csv\")\n",
    "X_test = pd.read_csv(\"../data/data_Train_Test/X_test.csv\")\n",
    "y_train = pd.read_csv(\"../data/data_Train_Test/y_train.csv\")['Puntaje_Credito']\n",
    "y_test = pd.read_csv(\"../data/data_Train_Test/y_test.csv\")['Puntaje_Credito']"
   ]
  },
  {
   "cell_type": "markdown",
   "metadata": {},
   "source": [
    "### **XGBoost**"
   ]
  },
  {
   "cell_type": "code",
   "execution_count": 7,
   "metadata": {},
   "outputs": [
    {
     "name": "stdout",
     "output_type": "stream",
     "text": [
      "Accuracy: 0.7939503832522872\n",
      "\n",
      "Classification Report:\n",
      "               precision    recall  f1-score   support\n",
      "\n",
      "        Good       0.74      0.73      0.73      1656\n",
      "        Poor       0.78      0.81      0.80      4140\n",
      "    Standard       0.82      0.80      0.81      6337\n",
      "\n",
      "    accuracy                           0.79     12133\n",
      "   macro avg       0.78      0.78      0.78     12133\n",
      "weighted avg       0.79      0.79      0.79     12133\n",
      "\n"
     ]
    }
   ],
   "source": [
    "# Crear el modelo de CatBoost\n",
    "model = CatBoostClassifier(random_state=42, verbose=0)  # verbose=0 para desactivar mensajes de entrenamiento\n",
    "\n",
    "# Entrenar el modelo con los datos de entrenamiento\n",
    "model.fit(X_train, y_train)\n",
    "\n",
    "# Realizar predicciones en el conjunto de prueba\n",
    "y_pred = model.predict(X_test)\n",
    "\n",
    "# Evaluar el rendimiento del modelo\n",
    "print(\"Accuracy:\", accuracy_score(y_test, y_pred))\n",
    "print(\"\\nClassification Report:\\n\", classification_report(y_test, y_pred))"
   ]
  },
  {
   "cell_type": "markdown",
   "metadata": {},
   "source": [
    "### **LightGBM**"
   ]
  },
  {
   "cell_type": "code",
   "execution_count": 8,
   "metadata": {},
   "outputs": [
    {
     "name": "stdout",
     "output_type": "stream",
     "text": [
      "[LightGBM] [Warning] Found whitespace in feature_names, replace with underlines\n",
      "[LightGBM] [Info] Auto-choosing col-wise multi-threading, the overhead of testing was 0.001754 seconds.\n",
      "You can set `force_col_wise=true` to remove the overhead.\n",
      "[LightGBM] [Info] Total Bins 1290\n",
      "[LightGBM] [Info] Number of data points in the train set: 48529, number of used features: 39\n",
      "[LightGBM] [Info] Start training from score -1.991462\n",
      "[LightGBM] [Info] Start training from score -1.075232\n",
      "[LightGBM] [Info] Start training from score -0.649541\n",
      "Accuracy: 0.7683178109288716\n",
      "\n",
      "Classification Report:\n",
      "               precision    recall  f1-score   support\n",
      "\n",
      "        Good       0.68      0.73      0.70      1656\n",
      "        Poor       0.77      0.76      0.76      4140\n",
      "    Standard       0.79      0.78      0.79      6337\n",
      "\n",
      "    accuracy                           0.77     12133\n",
      "   macro avg       0.75      0.76      0.75     12133\n",
      "weighted avg       0.77      0.77      0.77     12133\n",
      "\n"
     ]
    }
   ],
   "source": [
    "# Crear el modelo de LightGBM\n",
    "model = LGBMClassifier(random_state=42)\n",
    "\n",
    "# Entrenar el modelo con los datos de entrenamiento\n",
    "model.fit(X_train, y_train)\n",
    "\n",
    "# Realizar predicciones en el conjunto de prueba\n",
    "y_pred = model.predict(X_test)\n",
    "\n",
    "# Evaluar el rendimiento del modelo\n",
    "print(\"Accuracy:\", accuracy_score(y_test, y_pred))\n",
    "print(\"\\nClassification Report:\\n\", classification_report(y_test, y_pred))"
   ]
  },
  {
   "cell_type": "markdown",
   "metadata": {},
   "source": [
    "### **CatBoost**"
   ]
  },
  {
   "cell_type": "code",
   "execution_count": 9,
   "metadata": {},
   "outputs": [
    {
     "name": "stdout",
     "output_type": "stream",
     "text": [
      "Accuracy: 0.7939503832522872\n",
      "\n",
      "Classification Report:\n",
      "               precision    recall  f1-score   support\n",
      "\n",
      "        Good       0.74      0.73      0.73      1656\n",
      "        Poor       0.78      0.81      0.80      4140\n",
      "    Standard       0.82      0.80      0.81      6337\n",
      "\n",
      "    accuracy                           0.79     12133\n",
      "   macro avg       0.78      0.78      0.78     12133\n",
      "weighted avg       0.79      0.79      0.79     12133\n",
      "\n"
     ]
    }
   ],
   "source": [
    "# Crear el modelo de CatBoost\n",
    "model = CatBoostClassifier(random_state=42, verbose=0)  # verbose=0 para desactivar mensajes de entrenamiento\n",
    "\n",
    "# Entrenar el modelo con los datos de entrenamiento\n",
    "model.fit(X_train, y_train)\n",
    "\n",
    "# Realizar predicciones en el conjunto de prueba\n",
    "y_pred = model.predict(X_test)\n",
    "\n",
    "# Evaluar el rendimiento del modelo\n",
    "print(\"Accuracy:\", accuracy_score(y_test, y_pred))\n",
    "print(\"\\nClassification Report:\\n\", classification_report(y_test, y_pred))"
   ]
  }
 ],
 "metadata": {
  "kernelspec": {
   "display_name": "6_Practica_Clasificación de Puntajes Crediticios",
   "language": "python",
   "name": "python3"
  },
  "language_info": {
   "codemirror_mode": {
    "name": "ipython",
    "version": 3
   },
   "file_extension": ".py",
   "mimetype": "text/x-python",
   "name": "python",
   "nbconvert_exporter": "python",
   "pygments_lexer": "ipython3",
   "version": "3.12.3"
  }
 },
 "nbformat": 4,
 "nbformat_minor": 2
}
