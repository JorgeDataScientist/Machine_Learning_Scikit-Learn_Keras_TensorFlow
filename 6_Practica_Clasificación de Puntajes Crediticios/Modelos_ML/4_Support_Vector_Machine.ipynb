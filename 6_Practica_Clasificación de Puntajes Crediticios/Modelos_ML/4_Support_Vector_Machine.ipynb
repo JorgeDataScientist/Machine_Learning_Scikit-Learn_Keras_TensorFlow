{
 "cells": [
  {
   "cell_type": "code",
   "execution_count": 1,
   "metadata": {},
   "outputs": [
    {
     "name": "stdout",
     "output_type": "stream",
     "text": [
      "Accuracy: 0.6177367510096431\n",
      "\n",
      "Classification Report:\n",
      "               precision    recall  f1-score   support\n",
      "\n",
      "        Good       0.43      0.02      0.03      1656\n",
      "        Poor       0.62      0.69      0.65      4140\n",
      "    Standard       0.62      0.73      0.67      6337\n",
      "\n",
      "    accuracy                           0.62     12133\n",
      "   macro avg       0.56      0.48      0.45     12133\n",
      "weighted avg       0.59      0.62      0.58     12133\n",
      "\n"
     ]
    }
   ],
   "source": [
    "# Importar las librerías necesarias\n",
    "import pandas as pd\n",
    "from sklearn.svm import SVC\n",
    "from sklearn.metrics import classification_report, accuracy_score\n",
    "\n",
    "# Cargar los datos de entrenamiento y prueba\n",
    "X_train = pd.read_csv(\"../data/data_Train_Test/X_train.csv\")\n",
    "X_test = pd.read_csv(\"../data/data_Train_Test/X_test.csv\")\n",
    "y_train = pd.read_csv(\"../data/data_Train_Test/y_train.csv\")['Puntaje_Credito']\n",
    "y_test = pd.read_csv(\"../data/data_Train_Test/y_test.csv\")['Puntaje_Credito']\n",
    "\n",
    "# Crear el modelo SVM\n",
    "model = SVC(\n",
    "    kernel='rbf',          # Kernel RBF (Radial Basis Function) para problemas no lineales\n",
    "    decision_function_shape='ovr',  # One-vs-Rest para clasificación multiclase\n",
    "    probability=True,      # Habilitar probabilidades (opcional)\n",
    "    random_state=42\n",
    ")\n",
    "\n",
    "# Entrenar el modelo con los datos de entrenamiento\n",
    "model.fit(X_train, y_train)\n",
    "\n",
    "# Realizar predicciones en el conjunto de prueba\n",
    "y_pred = model.predict(X_test)\n",
    "\n",
    "# Evaluar el rendimiento del modelo\n",
    "print(\"Accuracy:\", accuracy_score(y_test, y_pred))\n",
    "print(\"\\nClassification Report:\\n\", classification_report(y_test, y_pred))"
   ]
  }
 ],
 "metadata": {
  "kernelspec": {
   "display_name": "6_Practica_Clasificación de Puntajes Crediticios",
   "language": "python",
   "name": "python3"
  },
  "language_info": {
   "codemirror_mode": {
    "name": "ipython",
    "version": 3
   },
   "file_extension": ".py",
   "mimetype": "text/x-python",
   "name": "python",
   "nbconvert_exporter": "python",
   "pygments_lexer": "ipython3",
   "version": "3.12.3"
  }
 },
 "nbformat": 4,
 "nbformat_minor": 2
}
