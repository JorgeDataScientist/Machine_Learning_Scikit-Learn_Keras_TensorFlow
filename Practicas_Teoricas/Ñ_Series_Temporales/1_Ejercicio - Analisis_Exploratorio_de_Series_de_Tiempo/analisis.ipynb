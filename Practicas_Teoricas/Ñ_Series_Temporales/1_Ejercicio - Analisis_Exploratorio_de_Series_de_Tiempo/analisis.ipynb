{
 "cells": [
  {
   "cell_type": "markdown",
   "metadata": {},
   "source": [
    "# Análisis Exploratorio de Datos de Series de Tiempo: Comportamiento de la Acción de Apple\n",
    "\n",
    "En este cuaderno, realizaremos un análisis exploratorio de datos (EDA) sobre la serie de tiempo que contiene el registro histórico del comportamiento de la acción de Apple en la bolsa de valores, abarcando desde el año 2010 hasta la actualidad. \n",
    "\n",
    "Para llevar a cabo este análisis, utilizaremos la librería **Yahoo Finance**, que nos permitirá descargar fácilmente la serie de tiempo actualizada. Comenzaremos por instalar la librería y procederemos a cargar los datos necesarios para explorar patrones, tendencias y comportamientos en el precio de la acción de Apple a lo largo del tiempo. \n",
    "\n",
    "Este análisis nos proporcionará una visión más clara sobre cómo ha fluctuado el valor de la acción, ayudando a identificar tendencias y posibles puntos de inversión."
   ]
  },
  {
   "cell_type": "code",
   "execution_count": 1,
   "metadata": {},
   "outputs": [],
   "source": [
    "# Instalar Yahoo Finance\n",
    "# !pip install yfinance"
   ]
  },
  {
   "cell_type": "code",
   "execution_count": 2,
   "metadata": {},
   "outputs": [
    {
     "name": "stdout",
     "output_type": "stream",
     "text": [
      "Name: yfinance\n",
      "Version: 0.2.48\n",
      "Summary: Download market data from Yahoo! Finance API\n",
      "Home-page: https://github.com/ranaroussi/yfinance\n",
      "Author: Ran Aroussi\n",
      "Author-email: ran@aroussi.com\n",
      "License: Apache\n",
      "Location: C:\\anaconda3\\anaconda3\\Lib\\site-packages\n",
      "Requires: beautifulsoup4, frozendict, html5lib, lxml, multitasking, numpy, pandas, peewee, platformdirs, pytz, requests\n",
      "Required-by: \n"
     ]
    }
   ],
   "source": [
    "!pip show yfinance\n",
    "\n",
    "\n",
    "# 04262368482\n",
    "# jorge medina"
   ]
  },
  {
   "cell_type": "code",
   "execution_count": 3,
   "metadata": {},
   "outputs": [
    {
     "ename": "ModuleNotFoundError",
     "evalue": "No module named 'yfinance'",
     "output_type": "error",
     "traceback": [
      "\u001b[1;31m---------------------------------------------------------------------------\u001b[0m",
      "\u001b[1;31mModuleNotFoundError\u001b[0m                       Traceback (most recent call last)",
      "Cell \u001b[1;32mIn[3], line 5\u001b[0m\n\u001b[0;32m      2\u001b[0m \u001b[38;5;28;01mimport\u001b[39;00m \u001b[38;5;21;01mpandas\u001b[39;00m \u001b[38;5;28;01mas\u001b[39;00m \u001b[38;5;21;01mpd\u001b[39;00m\n\u001b[0;32m      4\u001b[0m \u001b[38;5;66;03m# Importar la librería yfinance para acceder a datos financieros desde Yahoo Finance\u001b[39;00m\n\u001b[1;32m----> 5\u001b[0m \u001b[38;5;28;01mimport\u001b[39;00m \u001b[38;5;21;01myfinance\u001b[39;00m \u001b[38;5;28;01mas\u001b[39;00m \u001b[38;5;21;01myf\u001b[39;00m\n",
      "\u001b[1;31mModuleNotFoundError\u001b[0m: No module named 'yfinance'"
     ]
    }
   ],
   "source": [
    "# Importar la librería pandas para la manipulación de datos\n",
    "import pandas as pd\n",
    "\n",
    "# Importar la librería yfinance para acceder a datos financieros desde Yahoo Finance\n",
    "import yfinance as yf"
   ]
  }
 ],
 "metadata": {
  "kernelspec": {
   "display_name": "Python 3",
   "language": "python",
   "name": "python3"
  },
  "language_info": {
   "codemirror_mode": {
    "name": "ipython",
    "version": 3
   },
   "file_extension": ".py",
   "mimetype": "text/x-python",
   "name": "python",
   "nbconvert_exporter": "python",
   "pygments_lexer": "ipython3",
   "version": "3.12.1"
  }
 },
 "nbformat": 4,
 "nbformat_minor": 2
}
